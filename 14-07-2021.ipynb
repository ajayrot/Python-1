{
 "cells": [
  {
   "cell_type": "markdown",
   "metadata": {},
   "source": [
    "# Inheritance:\n",
    "- It is way of creating a new class for using details of an existing class without modifying it.\n"
   ]
  },
  {
   "cell_type": "code",
   "execution_count": 1,
   "metadata": {},
   "outputs": [
    {
     "name": "stdout",
     "output_type": "stream",
     "text": [
      "Suziki is ready\n",
      "Suzuki\n",
      "Run faster\n",
      "Run\n"
     ]
    }
   ],
   "source": [
    "class Motor:#parent class\n",
    "    def __init__(self):\n",
    "        print(\"Motor id ready\")\n",
    "        \n",
    "    def whozthis(self):\n",
    "        print(\"Motor\")\n",
    "    def fast(self):\n",
    "        print(\"Run faster\")\n",
    "        \n",
    "class Suzuki(Motor):#child class\n",
    "    def __init__(self):\n",
    "        print(\"Suziki is ready\")\n",
    "        \n",
    "    def whozthis(self):\n",
    "        print(\"Suzuki\")\n",
    "    def run(self):\n",
    "        print(\"Run\")\n",
    "suzuki = Suzuki()\n",
    "suzuki.whozthis()\n",
    "suzuki.fast()\n",
    "suzuki.run()"
   ]
  },
  {
   "cell_type": "code",
   "execution_count": 2,
   "metadata": {},
   "outputs": [
    {
     "name": "stdout",
     "output_type": "stream",
     "text": [
      "Login Method\n",
      "Register method\n",
      "Forgetpassword method\n"
     ]
    }
   ],
   "source": [
    "class A:\n",
    "    def Login(self):\n",
    "        print(\"Login Method\")\n",
    "        \n",
    "    def Register(self):\n",
    "        print(\"Register method\")\n",
    "        \n",
    "class B(A):\n",
    "    def forgetpassword(self):\n",
    "        print(\"Forgetpassword method\")\n",
    "objB = B()\n",
    "objB.Login()\n",
    "objB.Register()\n",
    "objB.forgetpassword()"
   ]
  },
  {
   "cell_type": "markdown",
   "metadata": {},
   "source": [
    "# Python Modules\n",
    "- Python has bulit in modules\n",
    "# Statistics Module\n",
    "- used for to calculate mathematical statistics of numerical data\n",
    "- **import statistics**\n",
    "- mean\n",
    "- median\n",
    "- mode\n",
    "- varience\n",
    "\n",
    "# How can we use modules\n",
    "- By importing will use modules with keyword - **import**"
   ]
  },
  {
   "cell_type": "code",
   "execution_count": 3,
   "metadata": {},
   "outputs": [
    {
     "data": {
      "text/plain": [
       "[1, 2, 3, 4, 5, 6, 7, 8, 9, 10, 11, 12, 13, 14, 15]"
      ]
     },
     "execution_count": 3,
     "metadata": {},
     "output_type": "execute_result"
    }
   ],
   "source": [
    "import statistics as st\n",
    "l1 = list(range(1,16))\n",
    "l1"
   ]
  },
  {
   "cell_type": "code",
   "execution_count": 5,
   "metadata": {},
   "outputs": [
    {
     "name": "stdout",
     "output_type": "stream",
     "text": [
      "8\n",
      "8.0\n"
     ]
    }
   ],
   "source": [
    "print(st.mean(l1))\n",
    "print(sum(l1)/len(l1))"
   ]
  },
  {
   "cell_type": "code",
   "execution_count": 7,
   "metadata": {},
   "outputs": [
    {
     "name": "stdout",
     "output_type": "stream",
     "text": [
      "8\n",
      "6.5\n"
     ]
    }
   ],
   "source": [
    "# median - returns the middle value from given list\n",
    "print(st.median(l1))\n",
    "print(st.median([1,5,6,7,8,4,7,9]))"
   ]
  },
  {
   "cell_type": "code",
   "execution_count": 9,
   "metadata": {},
   "outputs": [
    {
     "name": "stdout",
     "output_type": "stream",
     "text": [
      "2\n",
      "1\n"
     ]
    }
   ],
   "source": [
    "# mode - return the most common data point in the list\n",
    "print(st.mode([2,3,4,5,2,5,6,7,9]))\n",
    "print(st.mode(l1))"
   ]
  },
  {
   "cell_type": "code",
   "execution_count": 10,
   "metadata": {},
   "outputs": [
    {
     "name": "stdout",
     "output_type": "stream",
     "text": [
      "20\n"
     ]
    }
   ],
   "source": [
    "# varience - standard deviation\n",
    "print(st.variance(l1))"
   ]
  },
  {
   "cell_type": "markdown",
   "metadata": {},
   "source": [
    "# Random module:\n",
    "- used for to get random numbers"
   ]
  },
  {
   "cell_type": "code",
   "execution_count": 35,
   "metadata": {},
   "outputs": [
    {
     "data": {
      "text/plain": [
       "0.058352666726448565"
      ]
     },
     "execution_count": 35,
     "metadata": {},
     "output_type": "execute_result"
    }
   ],
   "source": [
    "#random method\n",
    "import random as rd\n",
    "rd.random()# 0 to 1"
   ]
  },
  {
   "cell_type": "code",
   "execution_count": 22,
   "metadata": {},
   "outputs": [
    {
     "name": "stdout",
     "output_type": "stream",
     "text": [
      "5\n",
      "55\n"
     ]
    }
   ],
   "source": [
    "#randint()- return a random integer between specified integers\n",
    "print(rd.randint(1,6))\n",
    "print(rd.randint(1,100))"
   ]
  },
  {
   "cell_type": "code",
   "execution_count": 33,
   "metadata": {},
   "outputs": [
    {
     "name": "stdout",
     "output_type": "stream",
     "text": [
      "2\n",
      "9\n",
      "21\n"
     ]
    }
   ],
   "source": [
    "#randrange()- return a randomly selected elements from range created\n",
    "print(rd.randrange(1,10))\n",
    "print(rd.randrange(1,10,4))\n",
    "print(rd.randrange(1,100,10))"
   ]
  },
  {
   "cell_type": "code",
   "execution_count": 39,
   "metadata": {},
   "outputs": [
    {
     "name": "stdout",
     "output_type": "stream",
     "text": [
      "5\n",
      "[2, 6, 5, 4, 3, 5, 6]\n"
     ]
    }
   ],
   "source": [
    "# random.choice()- return a randomly selected elementfrom non empty squence\n",
    "l1 = [1,2,3,4,5,6]\n",
    "print(rd.choice(l1))\n",
    "print(rd.choices(l1,k= 7))"
   ]
  },
  {
   "cell_type": "code",
   "execution_count": 41,
   "metadata": {},
   "outputs": [
    {
     "name": "stdout",
     "output_type": "stream",
     "text": [
      "[4, 5, 2, 1, 6, 3]\n"
     ]
    }
   ],
   "source": [
    "#shuffle()- return \n",
    "l1 = [1,2,3,4,5,6]\n",
    "rd.shuffle(l1)\n",
    "print(l1)"
   ]
  },
  {
   "cell_type": "code",
   "execution_count": null,
   "metadata": {},
   "outputs": [],
   "source": []
  }
 ],
 "metadata": {
  "kernelspec": {
   "display_name": "Python 3",
   "language": "python",
   "name": "python3"
  },
  "language_info": {
   "codemirror_mode": {
    "name": "ipython",
    "version": 3
   },
   "file_extension": ".py",
   "mimetype": "text/x-python",
   "name": "python",
   "nbconvert_exporter": "python",
   "pygments_lexer": "ipython3",
   "version": "3.8.5"
  }
 },
 "nbformat": 4,
 "nbformat_minor": 4
}
